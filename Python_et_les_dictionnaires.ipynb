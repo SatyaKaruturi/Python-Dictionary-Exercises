{
  "nbformat": 4,
  "nbformat_minor": 0,
  "metadata": {
    "colab": {
      "name": "Python et les dictionnaires.ipynb",
      "provenance": []
    },
    "kernelspec": {
      "name": "python3",
      "display_name": "Python 3"
    }
  },
  "cells": [
    {
      "cell_type": "markdown",
      "metadata": {
        "id": "LoJw-LlCTnWF",
        "colab_type": "text"
      },
      "source": [
        "# Mission 1\n",
        "\n",
        "Ci-dessous un dictionnaire contenant le nombre de campus français pour les formations de la Wild Code School.\n",
        "\n",
        "wildcodeschool =\t{\n",
        "  \"data_analyst\": 4,\n",
        "  \"alternance\": 2,\n",
        "  \"dev_web\": \"13\"\n",
        "}\n",
        "\n",
        "Trouve le moyen d'afficher les clés dont la valeur est un int."
      ]
    },
    {
      "cell_type": "code",
      "metadata": {
        "id": "C2Lk113KSPUO",
        "colab_type": "code",
        "colab": {}
      },
      "source": [
        "wildcodeschool =\t{\n",
        "  \"data_analyst\": 4,\n",
        "  \"alternance\": 2,\n",
        "  \"dev_web\": \"13\"\n",
        "}\n"
      ],
      "execution_count": 0,
      "outputs": []
    },
    {
      "cell_type": "code",
      "metadata": {
        "id": "i1T9MV2V3j5I",
        "colab_type": "code",
        "outputId": "aee698b3-3ac2-4dd3-8415-998e0c2ab60e",
        "colab": {
          "base_uri": "https://localhost:8080/",
          "height": 50
        }
      },
      "source": [
        "for x in wildcodeschool:\n",
        "  if type(wildcodeschool[x]) == int:\n",
        "     print(wildcodeschool.get(key, x))\n",
        "        \n",
        "     \n",
        " "
      ],
      "execution_count": 0,
      "outputs": [
        {
          "output_type": "stream",
          "text": [
            "data_analyst\n",
            "alternance\n"
          ],
          "name": "stdout"
        }
      ]
    },
    {
      "cell_type": "markdown",
      "metadata": {
        "id": "J3bsGIvAT049",
        "colab_type": "text"
      },
      "source": [
        "# Mission 2\n",
        "\n",
        "Toujours pour le même dictionnaire, trouve le moyen d'afficher les valeurs dont la clé contient la lettre \"e\""
      ]
    },
    {
      "cell_type": "code",
      "metadata": {
        "id": "Fy1OmPSUXNaP",
        "colab_type": "code",
        "outputId": "236647d3-8d11-400b-857e-87a66f472297",
        "colab": {
          "base_uri": "https://localhost:8080/",
          "height": 50
        }
      },
      "source": [
        "for l in wildcodeschool:\n",
        "  if l.count(\"e\")!= 0:\n",
        "    print(l)\n",
        "\n",
        " \n",
        "    "
      ],
      "execution_count": 0,
      "outputs": [
        {
          "output_type": "stream",
          "text": [
            "alternance\n",
            "dev_web\n"
          ],
          "name": "stdout"
        }
      ]
    },
    {
      "cell_type": "markdown",
      "metadata": {
        "id": "dVl36lvlWLdV",
        "colab_type": "text"
      },
      "source": [
        "# Mission 3\n",
        "\n",
        "Toujours pour le même dictionnaire, change le type de la valeur de la clé \"dev_web\" en int. Ensuite ajoute une nouvelle paire clé-valeur qui sera \"total_campus\" > 19, grâce à une **méthode de dictionnaire**."
      ]
    },
    {
      "cell_type": "code",
      "metadata": {
        "id": "pN3_mD4YSPfb",
        "colab_type": "code",
        "outputId": "990115e6-7d1f-44fd-be60-c6a28aaa4c55",
        "colab": {
          "base_uri": "https://localhost:8080/",
          "height": 34
        }
      },
      "source": [
        "wildcodeschool[\"dev_web\"] = int(wildcodeschool[\"dev_web\"])\n",
        "\n",
        "wildcodeschool[\"total_campus\"] = 19\n",
        "wildcodeschool"
      ],
      "execution_count": 0,
      "outputs": [
        {
          "output_type": "execute_result",
          "data": {
            "text/plain": [
              "{'alternance': 2, 'data_analyst': 4, 'dev_web': 13, 'total_campus': 19}"
            ]
          },
          "metadata": {
            "tags": []
          },
          "execution_count": 201
        }
      ]
    },
    {
      "cell_type": "markdown",
      "metadata": {
        "id": "GCvpkWzXXPTf",
        "colab_type": "text"
      },
      "source": [
        "# Mission 4\n",
        "\n",
        "Reprend le dictionnaire généré à la mission 3. Efface une paire de clé valeur aléatoirement, excepté total_campus."
      ]
    },
    {
      "cell_type": "code",
      "metadata": {
        "id": "QjLMjogySPk_",
        "colab_type": "code",
        "outputId": "52a41905-1ff4-4ef4-ccf2-180b76d0cb7d",
        "colab": {
          "base_uri": "https://localhost:8080/",
          "height": 34
        }
      },
      "source": [
        "import random\n",
        "for key in random.sample(wildcodeschool.keys(), 1):\n",
        "   del wildcodeschool[key]\n",
        "\n",
        "wildcodeschool"
      ],
      "execution_count": 0,
      "outputs": [
        {
          "output_type": "execute_result",
          "data": {
            "text/plain": [
              "{'data_analyst': 4, 'dev_web': 13, 'total_campus': 19}"
            ]
          },
          "metadata": {
            "tags": []
          },
          "execution_count": 189
        }
      ]
    },
    {
      "cell_type": "markdown",
      "metadata": {
        "id": "V8ZS3aECXvuZ",
        "colab_type": "text"
      },
      "source": [
        "# Mission 5\n",
        "\n",
        "Reprend le dictionnaire de la mission 3. Trouve un moyen d'afficher les clés du dictionnaire en ordre alphabétique."
      ]
    },
    {
      "cell_type": "code",
      "metadata": {
        "id": "ph_j97PoSPmU",
        "colab_type": "code",
        "outputId": "926ba3dc-454a-4ab3-b5ec-633c2961d533",
        "colab": {
          "base_uri": "https://localhost:8080/",
          "height": 34
        }
      },
      "source": [
        "sorted(wildcodeschool.keys())"
      ],
      "execution_count": 0,
      "outputs": [
        {
          "output_type": "execute_result",
          "data": {
            "text/plain": [
              "['alternance', 'data_analyst', 'dev_web', 'total_campus']"
            ]
          },
          "metadata": {
            "tags": []
          },
          "execution_count": 169
        }
      ]
    },
    {
      "cell_type": "markdown",
      "metadata": {
        "id": "geMLdrvAYHKx",
        "colab_type": "text"
      },
      "source": [
        "# Mission 6\n",
        "\n",
        "Crée une fonction qui fait la même chose que la méthode **values**."
      ]
    },
    {
      "cell_type": "code",
      "metadata": {
        "id": "1-cenx3RSPpq",
        "colab_type": "code",
        "outputId": "d5858a59-e5df-45f5-9c19-8e07902d8d52",
        "colab": {
          "base_uri": "https://localhost:8080/",
          "height": 34
        }
      },
      "source": [
        "def my_values(wildcodeschool):\n",
        "  \n",
        "     print(wildcodeschool.values())\n",
        "\n",
        "my_values(wildcodeschool)"
      ],
      "execution_count": 0,
      "outputs": [
        {
          "output_type": "stream",
          "text": [
            "dict_values([4, 2, 13, 19])\n"
          ],
          "name": "stdout"
        }
      ]
    }
  ]
}